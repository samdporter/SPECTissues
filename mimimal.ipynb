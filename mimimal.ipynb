{
 "cells": [
  {
   "cell_type": "code",
   "execution_count": 6,
   "metadata": {},
   "outputs": [],
   "source": [
    "import sirf.STIR as STIR\n",
    "import brainweb\n",
    "from tqdm.auto import tqdm\n",
    "import numpy\n",
    "import os"
   ]
  },
  {
   "cell_type": "code",
   "execution_count": 7,
   "metadata": {},
   "outputs": [],
   "source": [
    "dir = os.path.dirname(\"minimal.ipynb\")\n",
    "msg = STIR.MessageRedirector(dir+\"/info.txt\", dir+\"/warnings.txt\", dir+\"/error.txt\")"
   ]
  },
  {
   "cell_type": "code",
   "execution_count": 8,
   "metadata": {},
   "outputs": [],
   "source": [
    "fname, url= sorted(brainweb.utils.LINKS.items())[0]\n",
    "files = brainweb.get_file(fname, url, \".\")\n",
    "data = brainweb.load_file(fname)\n",
    "\n",
    "brainweb.seed(1337)"
   ]
  },
  {
   "cell_type": "code",
   "execution_count": 9,
   "metadata": {},
   "outputs": [
    {
     "data": {
      "application/vnd.jupyter.widget-view+json": {
       "model_id": "602b8e2bf37c4457b069052acdadfb9e",
       "version_major": 2,
       "version_minor": 0
      },
      "text/plain": [
       "mMR ground truths:   0%|          | 0/1 [00:00<?, ?subject/s]"
      ]
     },
     "metadata": {},
     "output_type": "display_data"
    }
   ],
   "source": [
    "for f in tqdm([fname], desc=\"mMR ground truths\", unit=\"subject\"):\n",
    "    vol = brainweb.get_mmr_fromfile(f, petNoise=1, t1Noise=0.75, t2Noise=0.75, petSigma=1, t1Sigma=1, t2Sigma=1)\n",
    "fdg_arr = vol['PET']"
   ]
  },
  {
   "cell_type": "code",
   "execution_count": 10,
   "metadata": {},
   "outputs": [],
   "source": [
    "# Select central slice\n",
    "central_slice = fdg_arr.shape[0]//2\n",
    "fdg_arr = fdg_arr[central_slice, :, :]\n",
    "\n",
    "# Select a central ROI with 120x120\n",
    "idim = [120,120]\n",
    "offset = (numpy.array(fdg_arr.shape) - numpy.array(idim)) // 2\n",
    "fdg_arr = fdg_arr[offset[0]:offset[0]+idim[0], offset[1]:offset[1]+idim[1]]\n",
    "\n",
    "# Now we make sure our image is of shape (1, 120, 120) \n",
    "fdg_arr = fdg_arr[numpy.newaxis,...]"
   ]
  },
  {
   "cell_type": "code",
   "execution_count": 11,
   "metadata": {},
   "outputs": [],
   "source": [
    "templ_sino = STIR.AcquisitionData(\"template_sinogram.hs\") # create an empty sinogram using a template"
   ]
  },
  {
   "cell_type": "code",
   "execution_count": 12,
   "metadata": {},
   "outputs": [],
   "source": [
    "im = STIR.ImageData(templ_sino)\n",
    "dim = fdg_arr.shape\n",
    "voxel_size=im.voxel_sizes()\n",
    "im.initialise(dim,(voxel_size[0]*2, voxel_size[1], voxel_size[2]))\n",
    "fdg = im.clone().fill(fdg_arr)"
   ]
  },
  {
   "cell_type": "code",
   "execution_count": 13,
   "metadata": {},
   "outputs": [],
   "source": [
    "acq_model_matrix = STIR.SPECTUBMatrix()\n",
    "acq_model_matrix.set_resolution_model(0,0,full_3D=False)\n",
    "am = STIR.AcquisitionModelUsingMatrix(acq_model_matrix)\n",
    "am.set_up(templ_sino, fdg)"
   ]
  },
  {
   "cell_type": "code",
   "execution_count": 14,
   "metadata": {},
   "outputs": [
    {
     "name": "stdout",
     "output_type": "stream",
     "text": [
      "no additive term added\n",
      "no unnormalisation applied\n",
      "no background term added\n"
     ]
    }
   ],
   "source": [
    "sino = am.forward(fdg)"
   ]
  },
  {
   "cell_type": "code",
   "execution_count": 15,
   "metadata": {},
   "outputs": [
    {
     "name": "stdout",
     "output_type": "stream",
     "text": [
      "backprojecting...ok\n"
     ]
    }
   ],
   "source": [
    "bp = am.backward(sino)"
   ]
  },
  {
   "cell_type": "code",
   "execution_count": 16,
   "metadata": {},
   "outputs": [
    {
     "name": "stdout",
     "output_type": "stream",
     "text": [
      "no additive term added\n",
      "no unnormalisation applied\n",
      "no background term added\n"
     ]
    }
   ],
   "source": [
    "sino = am.forward(bp)"
   ]
  },
  {
   "cell_type": "code",
   "execution_count": 17,
   "metadata": {},
   "outputs": [
    {
     "name": "stdout",
     "output_type": "stream",
     "text": [
      "backprojecting...ok\n"
     ]
    }
   ],
   "source": [
    "bp = am.backward(sino)"
   ]
  },
  {
   "cell_type": "code",
   "execution_count": 18,
   "metadata": {},
   "outputs": [
    {
     "name": "stdout",
     "output_type": "stream",
     "text": [
      "no additive term added\n",
      "no unnormalisation applied\n",
      "no background term added\n"
     ]
    }
   ],
   "source": [
    "sino = am.forward(bp)"
   ]
  },
  {
   "cell_type": "code",
   "execution_count": 19,
   "metadata": {},
   "outputs": [
    {
     "name": "stdout",
     "output_type": "stream",
     "text": [
      "no additive term added\n",
      "no unnormalisation applied\n",
      "no background term added\n",
      "backprojecting...ok\n",
      "no additive term added\n",
      "no unnormalisation applied\n",
      "no background term added\n",
      "backprojecting...ok\n"
     ]
    }
   ],
   "source": [
    "sino = am.forward(fdg)\n",
    "bp = am.backward(sino)\n",
    "sino = am.forward(bp)\n",
    "bp = am.backward(sino)"
   ]
  }
 ],
 "metadata": {
  "interpreter": {
   "hash": "f3bf92d3b792ef1cde52e67878f32297221d370b5400d6454564420ca0afeaab"
  },
  "kernelspec": {
   "display_name": "Python 3.9.12 ('cil')",
   "language": "python",
   "name": "python3"
  },
  "language_info": {
   "codemirror_mode": {
    "name": "ipython",
    "version": 3
   },
   "file_extension": ".py",
   "mimetype": "text/x-python",
   "name": "python",
   "nbconvert_exporter": "python",
   "pygments_lexer": "ipython3",
   "version": "3.9.7"
  },
  "orig_nbformat": 4
 },
 "nbformat": 4,
 "nbformat_minor": 2
}
