{
 "cells": [
  {
   "cell_type": "code",
   "execution_count": null,
   "metadata": {},
   "outputs": [],
   "source": [
    "import sirf.STIR as STIR\n",
    "import brainweb\n",
    "from tqdm.auto import tqdm\n",
    "import numpy\n",
    "import os\n",
    "import cil.optimisation.algorithms as algorithms\n",
    "import cil.optimisation.functions as functions\n",
    "import cil.optimisation.operators as operators"
   ]
  },
  {
   "cell_type": "code",
   "execution_count": null,
   "metadata": {},
   "outputs": [],
   "source": [
    "dir = os.path.dirname(\"minimal.ipynb\")\n",
    "msg = STIR.MessageRedirector(dir+\"/info.txt\", dir+\"/warnings.txt\", dir+\"/error.txt\")"
   ]
  },
  {
   "cell_type": "code",
   "execution_count": null,
   "metadata": {},
   "outputs": [],
   "source": [
    "fname, url= sorted(brainweb.utils.LINKS.items())[0]\n",
    "files = brainweb.get_file(fname, url, \".\")\n",
    "data = brainweb.load_file(fname)\n",
    "\n",
    "brainweb.seed(1337)"
   ]
  },
  {
   "cell_type": "code",
   "execution_count": null,
   "metadata": {},
   "outputs": [],
   "source": [
    "for f in tqdm([fname], desc=\"mMR ground truths\", unit=\"subject\"):\n",
    "    vol = brainweb.get_mmr_fromfile(f, petNoise=1, t1Noise=0.75, t2Noise=0.75, petSigma=1, t1Sigma=1, t2Sigma=1)\n",
    "fdg_arr = vol['PET']"
   ]
  },
  {
   "cell_type": "code",
   "execution_count": null,
   "metadata": {},
   "outputs": [],
   "source": [
    "# Select central slice\n",
    "central_slice = fdg_arr.shape[0]//2\n",
    "fdg_arr = fdg_arr[central_slice, :, :]\n",
    "\n",
    "# Select a central ROI with 120x120\n",
    "idim = [120,120]\n",
    "offset = (numpy.array(fdg_arr.shape) - numpy.array(idim)) // 2\n",
    "fdg_arr = fdg_arr[offset[0]:offset[0]+idim[0], offset[1]:offset[1]+idim[1]]\n",
    "\n",
    "# Now we make sure our image is of shape (1, 120, 120) \n",
    "fdg_arr = fdg_arr[numpy.newaxis,...]"
   ]
  },
  {
   "cell_type": "code",
   "execution_count": null,
   "metadata": {},
   "outputs": [],
   "source": [
    "templ_sino = STIR.AcquisitionData(\"template_sinogram.hs\") # create an empty sinogram using a template"
   ]
  },
  {
   "cell_type": "code",
   "execution_count": null,
   "metadata": {},
   "outputs": [],
   "source": [
    "im = STIR.ImageData(templ_sino)\n",
    "dim = fdg_arr.shape\n",
    "voxel_size=im.voxel_sizes()\n",
    "im.initialise(dim,(voxel_size[0]*2, voxel_size[1], voxel_size[2]))\n",
    "fdg = im.clone().fill(fdg_arr)"
   ]
  },
  {
   "cell_type": "code",
   "execution_count": null,
   "metadata": {},
   "outputs": [],
   "source": [
    "acq_model_matrix = STIR.SPECTUBMatrix()\n",
    "acq_model_matrix.set_resolution_model(0,0,full_3D=False)\n",
    "am = STIR.AcquisitionModelUsingMatrix(acq_model_matrix)\n",
    "am.set_up(templ_sino, fdg)"
   ]
  },
  {
   "cell_type": "code",
   "execution_count": null,
   "metadata": {},
   "outputs": [],
   "source": [
    "sino = am.forward(fdg)"
   ]
  },
  {
   "cell_type": "code",
   "execution_count": null,
   "metadata": {},
   "outputs": [],
   "source": [
    "bp = am.backward(sino)"
   ]
  },
  {
   "cell_type": "code",
   "execution_count": null,
   "metadata": {},
   "outputs": [],
   "source": [
    "sino = am.forward(bp)"
   ]
  },
  {
   "cell_type": "code",
   "execution_count": null,
   "metadata": {},
   "outputs": [],
   "source": [
    "bp = am.backward(sino)"
   ]
  },
  {
   "cell_type": "code",
   "execution_count": null,
   "metadata": {},
   "outputs": [],
   "source": [
    "sino = am.forward(bp)"
   ]
  },
  {
   "cell_type": "code",
   "execution_count": null,
   "metadata": {},
   "outputs": [],
   "source": [
    "sino = am.forward(fdg)\n",
    "bp = am.backward(sino)\n",
    "sino = am.forward(bp)\n",
    "bp = am.backward(sino)"
   ]
  },
  {
   "cell_type": "code",
   "execution_count": null,
   "metadata": {},
   "outputs": [],
   "source": [
    "bp.show()"
   ]
  },
  {
   "cell_type": "code",
   "execution_count": null,
   "metadata": {},
   "outputs": [],
   "source": [
    "sino = am.forward(fdg)"
   ]
  },
  {
   "cell_type": "code",
   "execution_count": null,
   "metadata": {},
   "outputs": [],
   "source": [
    "bp = am.backward(sino)"
   ]
  },
  {
   "cell_type": "code",
   "execution_count": null,
   "metadata": {},
   "outputs": [],
   "source": [
    "obj_fun = STIR.make_Poisson_loglikelihood(sino)\n",
    "obj_fun.set_acquisition_model(am)\n",
    "\n",
    "reconstructor = STIR.OSMAPOSLReconstructor()\n",
    "reconstructor.set_objective_function(obj_fun)\n",
    "reconstructor.set_num_subsets(21)\n",
    "reconstructor.set_num_subiterations(42)\n",
    "reconstructor.set_up(bp)\n",
    "\n",
    "reconstructor.reconstruct(bp)"
   ]
  },
  {
   "cell_type": "code",
   "execution_count": null,
   "metadata": {},
   "outputs": [],
   "source": [
    "tmp = am.forward(fdg)"
   ]
  },
  {
   "cell_type": "code",
   "execution_count": null,
   "metadata": {},
   "outputs": [],
   "source": [
    "grad = operators.GradientOperator(fdg, method='backward')"
   ]
  },
  {
   "cell_type": "code",
   "execution_count": null,
   "metadata": {},
   "outputs": [],
   "source": [
    "### fails ###\n",
    "tmp = am.forward(fdg)"
   ]
  }
 ],
 "metadata": {
  "interpreter": {
   "hash": "916dbcbb3f70747c44a77c7bcd40155683ae19c65e1c03b4aa3499c5328201f1"
  },
  "kernelspec": {
   "display_name": "Python 3.8.10 64-bit",
   "language": "python",
   "name": "python3"
  },
  "language_info": {
   "codemirror_mode": {
    "name": "ipython",
    "version": 3
   },
   "file_extension": ".py",
   "mimetype": "text/x-python",
   "name": "python",
   "nbconvert_exporter": "python",
   "pygments_lexer": "ipython3",
   "version": "3.9.7"
  },
  "orig_nbformat": 4
 },
 "nbformat": 4,
 "nbformat_minor": 2
}
